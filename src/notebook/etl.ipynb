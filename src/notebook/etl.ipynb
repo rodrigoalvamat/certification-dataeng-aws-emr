{
 "cells": [
  {
   "cell_type": "markdown",
   "metadata": {
    "pycharm": {
     "name": "#%% md\n"
    }
   },
   "source": [
    "# Spark ETL Pipeline on AWS EMR "
   ]
  },
  {
   "cell_type": "markdown",
   "metadata": {
    "pycharm": {
     "name": "#%% md\n"
    }
   },
   "source": [
    "## 1. Import Libraries"
   ]
  },
  {
   "cell_type": "code",
   "execution_count": 1,
   "metadata": {
    "pycharm": {
     "name": "#%%\n"
    }
   },
   "outputs": [],
   "source": [
    "# spark libs\n",
    "from pyspark.sql import SparkSession\n",
    "from pyspark.sql.functions import col, count, isnan, when\n",
    "from pyspark.sql.functions import concat, concat_ws, from_unixtime, substring, to_date\n",
    "from pyspark.sql.functions import dayofmonth, dayofweek, hour, month, weekofyear, year\n",
    "# config libs\n",
    "from ..etl.config import Config"
   ]
  },
  {
   "cell_type": "markdown",
   "metadata": {
    "pycharm": {
     "name": "#%% md\n"
    }
   },
   "source": [
    "## 2. Create Config and Spark Session"
   ]
  },
  {
   "cell_type": "markdown",
   "source": [
    "#### 2.1 Config"
   ],
   "metadata": {
    "collapsed": false,
    "pycharm": {
     "name": "#%% md\n"
    }
   }
  },
  {
   "cell_type": "code",
   "execution_count": null,
   "outputs": [],
   "source": [
    "config = Config(local=True)"
   ],
   "metadata": {
    "collapsed": false,
    "pycharm": {
     "name": "#%%\n"
    }
   }
  },
  {
   "cell_type": "markdown",
   "source": [
    "#### 2.2 Spark Session"
   ],
   "metadata": {
    "collapsed": false,
    "pycharm": {
     "name": "#%% md\n"
    }
   }
  },
  {
   "cell_type": "code",
   "execution_count": null,
   "metadata": {
    "pycharm": {
     "name": "#%%\n",
     "is_executing": true
    }
   },
   "outputs": [],
   "source": [
    "# @formatter:off\n",
    "spark = SparkSession.builder\\\n",
    "    .appName(config.get('SPARK', 'NOTEBOOK_NAME'))\\\n",
    "    .config('spark.jars.packages', config.get('SPARK', 'HADOOP_JAR'))\\\n",
    "    .getOrCreate()\n",
    "# @formatter:on"
   ]
  },
  {
   "cell_type": "markdown",
   "metadata": {
    "pycharm": {
     "name": "#%% md\n"
    }
   },
   "source": [
    "## 3. Define Data Storage Folders and Repartition Function"
   ]
  },
  {
   "cell_type": "markdown",
   "metadata": {
    "pycharm": {
     "name": "#%% md\n"
    }
   },
   "source": [
    "#### 3.1 Define Data Storage Folders"
   ]
  },
  {
   "cell_type": "code",
   "execution_count": 3,
   "metadata": {
    "pycharm": {
     "name": "#%%\n"
    }
   },
   "outputs": [],
   "source": [
    "s3_landing = config.get('S3', 'LANDING')\n",
    "s3_bronze = config.get('S3', 'BRONZE')\n",
    "s3_silver = config.get('S3', 'SILVER')"
   ]
  },
  {
   "cell_type": "markdown",
   "metadata": {
    "pycharm": {
     "name": "#%% md\n"
    }
   },
   "source": [
    "#### 3.2 Define Repartition Function"
   ]
  },
  {
   "cell_type": "code",
   "execution_count": 4,
   "metadata": {
    "pycharm": {
     "name": "#%%\n"
    }
   },
   "outputs": [],
   "source": [
    "def repartition_data(source_path, target_path):\n",
    "    dataframe = spark.read.json(source_path).repartition(1)\n",
    "    dataframe.write.mode('overwrite').json(target_path)\n",
    "    return spark.read.json(target_path)"
   ]
  },
  {
   "cell_type": "markdown",
   "metadata": {
    "pycharm": {
     "name": "#%% md\n"
    }
   },
   "source": [
    "#### 3.3 Repartition and Print the Number of Songs"
   ]
  },
  {
   "cell_type": "code",
   "execution_count": 5,
   "metadata": {
    "pycharm": {
     "name": "#%%\n"
    }
   },
   "outputs": [
    {
     "name": "stderr",
     "output_type": "stream",
     "text": [
      "[Stage 6:====================================================>  (443 + 8) / 466]\r"
     ]
    },
    {
     "name": "stdout",
     "output_type": "stream",
     "text": [
      "Songs count: 14896\n"
     ]
    },
    {
     "name": "stderr",
     "output_type": "stream",
     "text": [
      "                                                                                \r"
     ]
    }
   ],
   "source": [
    "source = config.get('FILES', 'SONGS_LANDING')\n",
    "target = config.get('FILES', 'SONGS_SILVER')\n",
    "songs = repartition_data(f'${s3_landing}/${source}', f'${s3_bronze}/${target}')\n",
    "songs_count = songs.count()\n",
    "\n",
    "print(f'Songs count: {songs_count}')"
   ]
  },
  {
   "cell_type": "markdown",
   "metadata": {
    "pycharm": {
     "name": "#%% md\n"
    }
   },
   "source": [
    "#### 3.4 Repartition and Print the Number of Logs"
   ]
  },
  {
   "cell_type": "code",
   "execution_count": 6,
   "metadata": {
    "pycharm": {
     "name": "#%%\n"
    }
   },
   "outputs": [
    {
     "name": "stdout",
     "output_type": "stream",
     "text": [
      "Logs count: 8056\n"
     ]
    }
   ],
   "source": [
    "source = config.get('FILES', 'LOGS_LANDING')\n",
    "target = config.get('FILES', 'LOGS_SILVER')\n",
    "logs = repartition_data(f'${s3_landing}/${source}', f'${s3_bronze}/${target}')\n",
    "logs_count = logs.count()\n",
    "\n",
    "print(f'Logs count: {logs_count}')"
   ]
  },
  {
   "cell_type": "markdown",
   "metadata": {
    "pycharm": {
     "name": "#%% md\n"
    }
   },
   "source": [
    "## 4. Create and Export Songs Table"
   ]
  },
  {
   "cell_type": "markdown",
   "metadata": {
    "pycharm": {
     "name": "#%% md\n"
    }
   },
   "source": [
    "#### 4.1 Songs Table Columns & Schema"
   ]
  },
  {
   "cell_type": "code",
   "execution_count": 7,
   "metadata": {
    "pycharm": {
     "name": "#%%\n"
    }
   },
   "outputs": [
    {
     "name": "stdout",
     "output_type": "stream",
     "text": [
      "root\n",
      " |-- song_id: string (nullable = true)\n",
      " |-- title: string (nullable = true)\n",
      " |-- year: long (nullable = true)\n",
      " |-- duration: double (nullable = true)\n",
      " |-- artist_id: string (nullable = true)\n",
      "\n"
     ]
    }
   ],
   "source": [
    "songs_table_columns = ['song_id', 'title', 'year', 'duration', 'artist_id']\n",
    "\n",
    "songs_table = songs.select(songs_table_columns)\n",
    "songs_table.printSchema()"
   ]
  },
  {
   "cell_type": "code",
   "execution_count": 8,
   "metadata": {
    "pycharm": {
     "name": "#%%\n"
    }
   },
   "outputs": [
    {
     "name": "stderr",
     "output_type": "stream",
     "text": [
      "[Stage 16:=====================================================>(465 + 1) / 466]\r"
     ]
    },
    {
     "name": "stdout",
     "output_type": "stream",
     "text": [
      "+------------------+--------------------+----+---------+------------------+\n",
      "|           song_id|               title|year| duration|         artist_id|\n",
      "+------------------+--------------------+----+---------+------------------+\n",
      "|SOVIYJY12AF72A4B00|The Dead Next Doo...|1983|233.22077|AR4T2IF1187B9ADBB7|\n",
      "|SOVYXYL12AF72A3373|Rebel Yell (1999 ...|1983|287.92118|AR4T2IF1187B9ADBB7|\n",
      "|SOEPTVC12A67ADD0DA|To Zucchabar [\"Gl...|   0|196.04853|ARQ846I1187B9A7083|\n",
      "|SOLQYSZ12AB0181F97|    Mony Mony (Live)|1987|247.53587|AR4T2IF1187B9ADBB7|\n",
      "|SOVPFJK12A6701CB16|Barcelona - (Frie...|2000|273.44934|AR3TZ691187FB3DBB1|\n",
      "+------------------+--------------------+----+---------+------------------+\n",
      "only showing top 5 rows\n",
      "\n"
     ]
    },
    {
     "name": "stderr",
     "output_type": "stream",
     "text": [
      "                                                                                \r"
     ]
    }
   ],
   "source": [
    "songs_table.show(5)"
   ]
  },
  {
   "cell_type": "markdown",
   "metadata": {
    "pycharm": {
     "name": "#%% md\n"
    }
   },
   "source": [
    "#### 4.2 Count Null Values"
   ]
  },
  {
   "cell_type": "code",
   "execution_count": 9,
   "metadata": {
    "pycharm": {
     "name": "#%%\n"
    }
   },
   "outputs": [
    {
     "name": "stderr",
     "output_type": "stream",
     "text": [
      "[Stage 19:===================================================>  (443 + 8) / 466]\r"
     ]
    },
    {
     "name": "stdout",
     "output_type": "stream",
     "text": [
      "+-------+-----+----+--------+---------+\n",
      "|song_id|title|year|duration|artist_id|\n",
      "+-------+-----+----+--------+---------+\n",
      "|      0|    0|   0|       0|        0|\n",
      "+-------+-----+----+--------+---------+\n",
      "\n"
     ]
    },
    {
     "name": "stderr",
     "output_type": "stream",
     "text": [
      "                                                                                \r"
     ]
    }
   ],
   "source": [
    "nulls_filter = [count(when(isnan(c) | col(c).isNull(), c)).alias(c) for c in songs_table_columns]\n",
    "songs_table.select(nulls_filter).show()"
   ]
  },
  {
   "cell_type": "markdown",
   "metadata": {
    "pycharm": {
     "name": "#%% md\n"
    }
   },
   "source": [
    "#### 4.3 Check Duplicates"
   ]
  },
  {
   "cell_type": "code",
   "execution_count": 10,
   "metadata": {
    "pycharm": {
     "name": "#%%\n"
    }
   },
   "outputs": [
    {
     "name": "stderr",
     "output_type": "stream",
     "text": [
      "[Stage 22:=================================================>    (430 + 8) / 466]\r"
     ]
    },
    {
     "name": "stdout",
     "output_type": "stream",
     "text": [
      "Songs duplicates: 0\n"
     ]
    },
    {
     "name": "stderr",
     "output_type": "stream",
     "text": [
      "                                                                                \r"
     ]
    }
   ],
   "source": [
    "unique_songs_count = songs_table.dropDuplicates(['song_id']).count()\n",
    "print(f'Songs duplicates: {songs_count - unique_songs_count}')"
   ]
  },
  {
   "cell_type": "markdown",
   "metadata": {
    "pycharm": {
     "name": "#%% md\n"
    }
   },
   "source": [
    "#### 4.4 Export to Songs Parquet Table"
   ]
  },
  {
   "cell_type": "code",
   "execution_count": 11,
   "metadata": {
    "pycharm": {
     "name": "#%%\n"
    }
   },
   "outputs": [
    {
     "name": "stderr",
     "output_type": "stream",
     "text": [
      "                                                                                \r"
     ]
    }
   ],
   "source": [
    "table = config.get('FILES', 'SONGS_SILVER')\n",
    "songs_table.drop_duplicates(['song_id']).write.mode('overwrite').parquet(f'${s3_silver}/${table}')"
   ]
  },
  {
   "cell_type": "markdown",
   "metadata": {
    "pycharm": {
     "name": "#%% md\n"
    }
   },
   "source": [
    "## 5. Create and Export Artists Table"
   ]
  },
  {
   "cell_type": "markdown",
   "metadata": {
    "pycharm": {
     "name": "#%% md\n"
    }
   },
   "source": [
    "#### 5.1 Artists Table Columns & Schema"
   ]
  },
  {
   "cell_type": "code",
   "execution_count": 12,
   "metadata": {
    "pycharm": {
     "name": "#%%\n"
    }
   },
   "outputs": [
    {
     "name": "stdout",
     "output_type": "stream",
     "text": [
      "root\n",
      " |-- artist_id: string (nullable = true)\n",
      " |-- name: string (nullable = true)\n",
      " |-- location: string (nullable = true)\n",
      " |-- latitude: double (nullable = true)\n",
      " |-- longitude: double (nullable = true)\n",
      "\n"
     ]
    }
   ],
   "source": [
    "artists_json_columns = ['artist_id', 'artist_name', 'artist_location', 'artist_latitude', 'artist_longitude']\n",
    "artists_table_columns = ['artist_id', 'name', 'location', 'latitude', 'longitude']\n",
    "\n",
    "artists_table = songs.select(artists_json_columns).toDF(*artists_table_columns)\n",
    "artists_table.printSchema()"
   ]
  },
  {
   "cell_type": "code",
   "execution_count": 13,
   "metadata": {
    "pycharm": {
     "name": "#%%\n"
    }
   },
   "outputs": [
    {
     "name": "stderr",
     "output_type": "stream",
     "text": [
      "[Stage 28:=================================================>    (431 + 8) / 466]\r"
     ]
    },
    {
     "name": "stdout",
     "output_type": "stream",
     "text": [
      "+------------------+--------------------+--------------------+--------+---------+\n",
      "|         artist_id|                name|            location|latitude|longitude|\n",
      "+------------------+--------------------+--------------------+--------+---------+\n",
      "|AR4T2IF1187B9ADBB7|          Billy Idol|<a href=\"http://b...|63.96027| 10.22442|\n",
      "|AR4T2IF1187B9ADBB7|          Billy Idol|<a href=\"http://b...|63.96027| 10.22442|\n",
      "|ARQ846I1187B9A7083|Yvonne S. Moriart...|                    |    null|     null|\n",
      "|AR4T2IF1187B9ADBB7|          Billy Idol|<a href=\"http://b...|63.96027| 10.22442|\n",
      "|AR3TZ691187FB3DBB1|Russell Watson / ...|                    |    null|     null|\n",
      "+------------------+--------------------+--------------------+--------+---------+\n",
      "only showing top 5 rows\n",
      "\n"
     ]
    },
    {
     "name": "stderr",
     "output_type": "stream",
     "text": [
      "                                                                                \r"
     ]
    }
   ],
   "source": [
    "artists_table.show(5)"
   ]
  },
  {
   "cell_type": "markdown",
   "metadata": {
    "pycharm": {
     "name": "#%% md\n"
    }
   },
   "source": [
    "#### 5.2 Count Null Values"
   ]
  },
  {
   "cell_type": "code",
   "execution_count": 14,
   "metadata": {
    "pycharm": {
     "name": "#%%\n"
    }
   },
   "outputs": [
    {
     "name": "stderr",
     "output_type": "stream",
     "text": [
      "[Stage 31:==================================================>   (433 + 8) / 466]\r"
     ]
    },
    {
     "name": "stdout",
     "output_type": "stream",
     "text": [
      "+---------+----+--------+--------+---------+\n",
      "|artist_id|name|location|latitude|longitude|\n",
      "+---------+----+--------+--------+---------+\n",
      "|        0|   0|       1|    9619|     9619|\n",
      "+---------+----+--------+--------+---------+\n",
      "\n"
     ]
    },
    {
     "name": "stderr",
     "output_type": "stream",
     "text": [
      "                                                                                \r"
     ]
    }
   ],
   "source": [
    "nulls_filter = [count(when(isnan(c) | col(c).isNull(), c)).alias(c) for c in artists_table_columns]\n",
    "artists_table.select(nulls_filter).show()"
   ]
  },
  {
   "cell_type": "markdown",
   "metadata": {
    "pycharm": {
     "name": "#%% md\n"
    }
   },
   "source": [
    "#### 5.3 Check Duplicates"
   ]
  },
  {
   "cell_type": "code",
   "execution_count": 15,
   "metadata": {
    "pycharm": {
     "name": "#%%\n"
    }
   },
   "outputs": [
    {
     "name": "stderr",
     "output_type": "stream",
     "text": [
      "[Stage 34:==================================================>   (435 + 8) / 466]\r"
     ]
    },
    {
     "name": "stdout",
     "output_type": "stream",
     "text": [
      "Artists duplicates: 5343\n"
     ]
    },
    {
     "name": "stderr",
     "output_type": "stream",
     "text": [
      "                                                                                \r"
     ]
    }
   ],
   "source": [
    "unique_artists_count = artists_table.dropDuplicates(['artist_id']).count()\n",
    "print(f'Artists duplicates: {songs_count - unique_artists_count}')"
   ]
  },
  {
   "cell_type": "markdown",
   "metadata": {
    "pycharm": {
     "name": "#%% md\n"
    }
   },
   "source": [
    "#### 5.4 Export to Artists Parquet Table"
   ]
  },
  {
   "cell_type": "code",
   "execution_count": 16,
   "metadata": {
    "pycharm": {
     "name": "#%%\n"
    }
   },
   "outputs": [
    {
     "name": "stderr",
     "output_type": "stream",
     "text": [
      "                                                                                \r"
     ]
    }
   ],
   "source": [
    "table = config.get('FILES', 'ARTISTS_SILVER')\n",
    "artists_table.drop_duplicates(['artist_id']).write.mode('overwrite').parquet(f'${s3_silver}/${table}')"
   ]
  },
  {
   "cell_type": "markdown",
   "metadata": {
    "pycharm": {
     "name": "#%% md\n"
    }
   },
   "source": [
    "## 6. Filter Logs and Update Count"
   ]
  },
  {
   "cell_type": "code",
   "execution_count": 17,
   "metadata": {
    "pycharm": {
     "name": "#%%\n"
    }
   },
   "outputs": [
    {
     "name": "stdout",
     "output_type": "stream",
     "text": [
      "Logs count: 6820\n"
     ]
    }
   ],
   "source": [
    "logs = logs.where(logs.page == 'NextSong')\n",
    "\n",
    "logs_count = logs.count()\n",
    "print(f'Logs count: {logs_count}')"
   ]
  },
  {
   "cell_type": "markdown",
   "metadata": {
    "pycharm": {
     "name": "#%% md\n"
    }
   },
   "source": [
    "## 7. Create and Export Users Table"
   ]
  },
  {
   "cell_type": "markdown",
   "metadata": {
    "pycharm": {
     "name": "#%% md\n"
    }
   },
   "source": [
    "#### 7.1 Users Table Columns & Schema"
   ]
  },
  {
   "cell_type": "code",
   "execution_count": 18,
   "metadata": {
    "pycharm": {
     "name": "#%%\n"
    }
   },
   "outputs": [
    {
     "name": "stdout",
     "output_type": "stream",
     "text": [
      "root\n",
      " |-- user_id: string (nullable = true)\n",
      " |-- first_name: string (nullable = true)\n",
      " |-- last_name: string (nullable = true)\n",
      " |-- gender: string (nullable = true)\n",
      " |-- level: string (nullable = true)\n",
      "\n"
     ]
    }
   ],
   "source": [
    "users_json_columns = ['userId', 'firstName', 'lastName', 'gender', 'level']\n",
    "users_table_columns = ['user_id', 'first_name', 'last_name', 'gender', 'level']\n",
    "\n",
    "users_table = logs.select(users_json_columns).toDF(*users_table_columns)\n",
    "users_table.printSchema()"
   ]
  },
  {
   "cell_type": "code",
   "execution_count": 19,
   "metadata": {
    "pycharm": {
     "name": "#%%\n"
    }
   },
   "outputs": [
    {
     "name": "stdout",
     "output_type": "stream",
     "text": [
      "+-------+----------+---------+------+-----+\n",
      "|user_id|first_name|last_name|gender|level|\n",
      "+-------+----------+---------+------+-----+\n",
      "|     26|      Ryan|    Smith|     M| free|\n",
      "|     26|      Ryan|    Smith|     M| free|\n",
      "|     26|      Ryan|    Smith|     M| free|\n",
      "|     61|    Samuel| Gonzalez|     M| free|\n",
      "|     80|     Tegan|   Levine|     F| paid|\n",
      "+-------+----------+---------+------+-----+\n",
      "only showing top 5 rows\n",
      "\n"
     ]
    }
   ],
   "source": [
    "users_table.show(5)"
   ]
  },
  {
   "cell_type": "markdown",
   "metadata": {
    "pycharm": {
     "name": "#%% md\n"
    }
   },
   "source": [
    "#### 7.2 Count Null Values"
   ]
  },
  {
   "cell_type": "code",
   "execution_count": 20,
   "metadata": {
    "pycharm": {
     "name": "#%%\n"
    }
   },
   "outputs": [
    {
     "name": "stdout",
     "output_type": "stream",
     "text": [
      "+-------+----------+---------+------+-----+\n",
      "|user_id|first_name|last_name|gender|level|\n",
      "+-------+----------+---------+------+-----+\n",
      "|      0|         0|        0|     0|    0|\n",
      "+-------+----------+---------+------+-----+\n",
      "\n"
     ]
    }
   ],
   "source": [
    "nulls_filter = [count(when(isnan(c) | col(c).isNull(), c)).alias(c) for c in users_table_columns]\n",
    "users_table.select(nulls_filter).show()"
   ]
  },
  {
   "cell_type": "markdown",
   "metadata": {
    "pycharm": {
     "name": "#%% md\n"
    }
   },
   "source": [
    "#### 7.3 Check Duplicates"
   ]
  },
  {
   "cell_type": "code",
   "execution_count": 21,
   "metadata": {
    "pycharm": {
     "name": "#%%\n"
    }
   },
   "outputs": [
    {
     "name": "stdout",
     "output_type": "stream",
     "text": [
      "Users duplicates: 6724\n"
     ]
    }
   ],
   "source": [
    "unique_users_count = users_table.dropDuplicates(['user_id']).count()\n",
    "print(f'Users duplicates: {logs_count - unique_users_count}')"
   ]
  },
  {
   "cell_type": "markdown",
   "metadata": {
    "pycharm": {
     "name": "#%% md\n"
    }
   },
   "source": [
    "#### 7.4 Export to Users Parquet Table"
   ]
  },
  {
   "cell_type": "code",
   "execution_count": 22,
   "metadata": {
    "pycharm": {
     "name": "#%%\n"
    }
   },
   "outputs": [],
   "source": [
    "table = config.get('FILES', 'USERS_SILVER')\n",
    "users_table.drop_duplicates(['user_id']).write.mode('overwrite').parquet(f'${s3_silver}/${table}')"
   ]
  },
  {
   "cell_type": "markdown",
   "metadata": {
    "pycharm": {
     "name": "#%% md\n"
    }
   },
   "source": [
    "## 8. Create and Export Time Table"
   ]
  },
  {
   "cell_type": "markdown",
   "metadata": {
    "pycharm": {
     "name": "#%% md\n"
    }
   },
   "source": [
    "#### 8.1 Time Table Columns & Schema"
   ]
  },
  {
   "cell_type": "code",
   "execution_count": 23,
   "metadata": {
    "pycharm": {
     "name": "#%%\n"
    }
   },
   "outputs": [
    {
     "name": "stdout",
     "output_type": "stream",
     "text": [
      "root\n",
      " |-- start_time: string (nullable = false)\n",
      " |-- hour: integer (nullable = true)\n",
      " |-- day: integer (nullable = true)\n",
      " |-- week: integer (nullable = true)\n",
      " |-- month: integer (nullable = true)\n",
      " |-- year: integer (nullable = true)\n",
      " |-- weekday: integer (nullable = true)\n",
      "\n"
     ]
    }
   ],
   "source": [
    "time_table_columns = ['start_time', 'hour', 'day', 'week', 'month', 'year', 'weekday']\n",
    "\n",
    "# @formatter:off\n",
    "time_table = logs.select(['ts'])\\\n",
    "    .withColumn('start_time',\n",
    "        concat_ws(\".\",\n",
    "                  from_unixtime((col('ts') / 1000), 'yyyy-MM-dd HH:mm:ss'),\n",
    "                  substring(col('ts'), -3, 3)))\\\n",
    "    .withColumn('date', to_date('start_time'))\\\n",
    "    .withColumn('hour',hour('date'))\\\n",
    "    .withColumn('day', dayofmonth('date'))\\\n",
    "    .withColumn('week', weekofyear('date'))\\\n",
    "    .withColumn('month', month('date'))\\\n",
    "    .withColumn('year', year('date'))\\\n",
    "    .withColumn('weekday', dayofweek('date'))\\\n",
    "    .select(time_table_columns)\n",
    "# @formatter:on\n",
    "\n",
    "time_table.printSchema()"
   ]
  },
  {
   "cell_type": "code",
   "execution_count": 24,
   "metadata": {
    "pycharm": {
     "name": "#%%\n"
    }
   },
   "outputs": [
    {
     "name": "stdout",
     "output_type": "stream",
     "text": [
      "+--------------------+----+---+----+-----+----+-------+\n",
      "|          start_time|hour|day|week|month|year|weekday|\n",
      "+--------------------+----+---+----+-----+----+-------+\n",
      "|2018-11-14 22:30:...|   0| 14|  46|   11|2018|      4|\n",
      "|2018-11-14 22:41:...|   0| 14|  46|   11|2018|      4|\n",
      "|2018-11-14 22:45:...|   0| 14|  46|   11|2018|      4|\n",
      "|2018-11-15 01:44:...|   0| 15|  46|   11|2018|      5|\n",
      "|2018-11-15 03:48:...|   0| 15|  46|   11|2018|      5|\n",
      "+--------------------+----+---+----+-----+----+-------+\n",
      "only showing top 5 rows\n",
      "\n"
     ]
    }
   ],
   "source": [
    "time_table.show(5)"
   ]
  },
  {
   "cell_type": "markdown",
   "metadata": {
    "pycharm": {
     "name": "#%% md\n"
    }
   },
   "source": [
    "#### 8.2 Count Null Values"
   ]
  },
  {
   "cell_type": "code",
   "execution_count": 25,
   "metadata": {
    "pycharm": {
     "name": "#%%\n"
    }
   },
   "outputs": [
    {
     "name": "stdout",
     "output_type": "stream",
     "text": [
      "+----------+----+---+----+-----+----+-------+\n",
      "|start_time|hour|day|week|month|year|weekday|\n",
      "+----------+----+---+----+-----+----+-------+\n",
      "|         0|   0|  0|   0|    0|   0|      0|\n",
      "+----------+----+---+----+-----+----+-------+\n",
      "\n"
     ]
    }
   ],
   "source": [
    "nulls_filter = [count(when(col(c).isNull(), c)).alias(c) for c in time_table_columns]\n",
    "time_table.select(nulls_filter).show()"
   ]
  },
  {
   "cell_type": "markdown",
   "metadata": {
    "pycharm": {
     "name": "#%% md\n"
    }
   },
   "source": [
    "#### 8.3 Check Duplicates"
   ]
  },
  {
   "cell_type": "code",
   "execution_count": 26,
   "metadata": {
    "pycharm": {
     "name": "#%%\n"
    }
   },
   "outputs": [
    {
     "name": "stdout",
     "output_type": "stream",
     "text": [
      "Time duplicates: 7\n"
     ]
    }
   ],
   "source": [
    "unique_time_count = time_table.dropDuplicates(['start_time']).count()\n",
    "print(f'Time duplicates: {logs_count - unique_time_count}')"
   ]
  },
  {
   "cell_type": "markdown",
   "metadata": {
    "pycharm": {
     "name": "#%% md\n"
    }
   },
   "source": [
    "#### 8.4 Export to Time Parquet Table"
   ]
  },
  {
   "cell_type": "code",
   "execution_count": 27,
   "metadata": {
    "pycharm": {
     "name": "#%%\n"
    }
   },
   "outputs": [],
   "source": [
    "table = config.get('FILES', 'TIME_SILVER')\n",
    "time_table.drop_duplicates(['start_time']).write.mode('overwrite').parquet(f'${s3_silver}/${table}')"
   ]
  },
  {
   "cell_type": "markdown",
   "metadata": {
    "pycharm": {
     "name": "#%% md\n"
    }
   },
   "source": [
    "## 9. Create and Export Songplays Table"
   ]
  },
  {
   "cell_type": "markdown",
   "metadata": {
    "pycharm": {
     "name": "#%% md\n"
    }
   },
   "source": [
    "#### 9.1 Songplays Table Columns & Schema"
   ]
  },
  {
   "cell_type": "code",
   "execution_count": 28,
   "metadata": {
    "pycharm": {
     "name": "#%%\n"
    }
   },
   "outputs": [
    {
     "name": "stdout",
     "output_type": "stream",
     "text": [
      "root\n",
      " |-- songplay_id: string (nullable = true)\n",
      " |-- level: string (nullable = true)\n",
      " |-- location: string (nullable = true)\n",
      " |-- user_agent: string (nullable = true)\n",
      " |-- session_id: long (nullable = true)\n",
      " |-- user_id: string (nullable = true)\n",
      " |-- song_id: string (nullable = true)\n",
      " |-- artist_id: string (nullable = true)\n",
      " |-- start_time: string (nullable = false)\n",
      "\n"
     ]
    }
   ],
   "source": [
    "songplays_json_columns = ['level', 'location', 'userAgent', 'sessionId', 'itemInSession',\n",
    "                          'userId', 'ts', 'song', 'artist', 'length']\n",
    "songplays_table_columns = ['songplay_id', 'level', 'location', 'user_agent', 'session_id',\n",
    "                           'user_id', 'song_id', 'artist_id', 'start_time']\n",
    "\n",
    "# @formatter:off\n",
    "songplays_table = logs.select(songplays_json_columns).alias('sp')\\\n",
    "    .join(songs.alias('so'), [\n",
    "        (col('sp.song') == col('so.title')) &\n",
    "        (col('sp.artist') == col('so.artist_name')) &\n",
    "        (col('sp.length') == col('so.duration'))])\\\n",
    "    .withColumn('songplay_id',\n",
    "        concat(col('userId'), col('sessionId').cast('string'), col('itemInSession').cast('string')))\\\n",
    "    .withColumn('start_time',\n",
    "        concat_ws(\".\", from_unixtime((col('ts') / 1000), 'yyyy-MM-dd HH:mm:ss'), substring(col('ts'), -3, 3)))\\\n",
    "    .withColumnRenamed('userAgent', 'user_agent')\\\n",
    "    .withColumnRenamed('sessionId', 'session_id')\\\n",
    "    .withColumnRenamed('userId', 'user_id')\\\n",
    "    .select(songplays_table_columns)\n",
    "# @formatter:on\n",
    "\n",
    "songplays_table.printSchema()"
   ]
  },
  {
   "cell_type": "code",
   "execution_count": 29,
   "metadata": {
    "pycharm": {
     "name": "#%%\n"
    }
   },
   "outputs": [
    {
     "name": "stderr",
     "output_type": "stream",
     "text": [
      "[Stage 68:=============>(440 + 8) / 466][Stage 70:>                 (0 + 0) / 1]\r"
     ]
    },
    {
     "name": "stdout",
     "output_type": "stream",
     "text": [
      "+-----------+-----+--------------------+--------------------+----------+-------+------------------+------------------+--------------------+\n",
      "|songplay_id|level|            location|          user_agent|session_id|user_id|           song_id|         artist_id|          start_time|\n",
      "+-----------+-----+--------------------+--------------------+----------+-------+------------------+------------------+--------------------+\n",
      "|    8874413| paid|Sacramento--Rosev...|\"Mozilla/5.0 (Mac...|       744|     88|SOCHPTV12A6BD53113|ARN8NCB1187FB49652|2018-11-21 06:25:...|\n",
      "|   49104147| paid|San Francisco-Oak...|Mozilla/5.0 (Wind...|      1041|     49|SOGXSWA12A6D4FBC99|ARPFHN61187FB575F6|2018-11-29 14:58:...|\n",
      "|    5888720| paid|Augusta-Richmond ...|\"Mozilla/5.0 (Win...|       887|     58|SOJWCWM12A8C13B664|ARM6T8I1187FB36CC8|2018-11-28 06:18:...|\n",
      "|    2498481| paid|Lake Havasu City-...|\"Mozilla/5.0 (Win...|       984|     24|SOHRHCN12AB018B0F4|ARHQBRZ1187FB3BDA2|2018-11-28 21:34:...|\n",
      "|    8890049| paid|Sacramento--Rosev...|\"Mozilla/5.0 (Mac...|       900|     88|SOARTQC12A58A77F0C|ARCE0IX1187FB528B4|2018-11-26 13:37:...|\n",
      "+-----------+-----+--------------------+--------------------+----------+-------+------------------+------------------+--------------------+\n",
      "only showing top 5 rows\n",
      "\n"
     ]
    },
    {
     "name": "stderr",
     "output_type": "stream",
     "text": [
      "                                                                                \r"
     ]
    }
   ],
   "source": [
    "songplays_table.show(5)"
   ]
  },
  {
   "cell_type": "markdown",
   "metadata": {
    "pycharm": {
     "name": "#%% md\n"
    }
   },
   "source": [
    "#### 9.2 Count Null Values"
   ]
  },
  {
   "cell_type": "code",
   "execution_count": 30,
   "metadata": {
    "pycharm": {
     "name": "#%%\n"
    }
   },
   "outputs": [
    {
     "name": "stderr",
     "output_type": "stream",
     "text": [
      "[Stage 74:=============>(453 + 8) / 466][Stage 76:>                 (0 + 0) / 1]\r"
     ]
    },
    {
     "name": "stdout",
     "output_type": "stream",
     "text": [
      "+-----------+-----+--------+----------+----------+-------+-------+---------+----------+\n",
      "|songplay_id|level|location|user_agent|session_id|user_id|song_id|artist_id|start_time|\n",
      "+-----------+-----+--------+----------+----------+-------+-------+---------+----------+\n",
      "|          0|    0|       0|         0|         0|      0|      0|        0|         0|\n",
      "+-----------+-----+--------+----------+----------+-------+-------+---------+----------+\n",
      "\n"
     ]
    },
    {
     "name": "stderr",
     "output_type": "stream",
     "text": [
      "                                                                                \r"
     ]
    }
   ],
   "source": [
    "nulls_filter = [count(when(col(c).isNull(), c)).alias(c) for c in songplays_table_columns]\n",
    "songplays_table.select(nulls_filter).show()"
   ]
  },
  {
   "cell_type": "markdown",
   "metadata": {
    "pycharm": {
     "name": "#%% md\n"
    }
   },
   "source": [
    "#### 9.3 Export to Songplays Parquet Table"
   ]
  },
  {
   "cell_type": "code",
   "execution_count": 31,
   "metadata": {
    "pycharm": {
     "name": "#%%\n"
    }
   },
   "outputs": [
    {
     "name": "stderr",
     "output_type": "stream",
     "text": [
      "                                                                                \r"
     ]
    }
   ],
   "source": [
    "table = config.get('FILES', 'SONGPLAYS_SILVER')\n",
    "songplays_table.write.mode('overwrite').parquet(f'${s3_silver}/${table}')"
   ]
  },
  {
   "cell_type": "markdown",
   "metadata": {
    "pycharm": {
     "name": "#%% md\n"
    }
   },
   "source": [
    "## 10. Stop Spark Session"
   ]
  },
  {
   "cell_type": "code",
   "execution_count": 32,
   "metadata": {
    "pycharm": {
     "name": "#%%\n"
    }
   },
   "outputs": [],
   "source": [
    "spark.stop()"
   ]
  }
 ],
 "metadata": {
  "kernelspec": {
   "display_name": "Python 3.10.4 ('py310')",
   "language": "python",
   "name": "python3"
  },
  "language_info": {
   "codemirror_mode": {
    "name": "ipython",
    "version": 3
   },
   "file_extension": ".py",
   "mimetype": "text/x-python",
   "name": "python",
   "nbconvert_exporter": "python",
   "pygments_lexer": "ipython3",
   "version": "3.10.4"
  },
  "orig_nbformat": 4,
  "vscode": {
   "interpreter": {
    "hash": "d47df541592af340dce933e7169349dc2df4da248e87c9a46187cbe39a8376b2"
   }
  }
 },
 "nbformat": 4,
 "nbformat_minor": 2
}