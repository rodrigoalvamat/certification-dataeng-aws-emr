{
 "cells": [
  {
   "cell_type": "markdown",
   "metadata": {},
   "source": [
    "# Spark ETL Pipeline on AWS EMR "
   ]
  },
  {
   "cell_type": "markdown",
   "metadata": {},
   "source": [
    "## 1. Import Libraries"
   ]
  },
  {
   "cell_type": "code",
   "execution_count": 191,
   "metadata": {},
   "outputs": [],
   "source": [
    "from pyspark.sql import SparkSession\n",
    "import pyspark.sql.functions as F"
   ]
  },
  {
   "cell_type": "markdown",
   "metadata": {},
   "source": [
    "## 2. Create Spark Session"
   ]
  },
  {
   "cell_type": "code",
   "execution_count": 192,
   "metadata": {},
   "outputs": [],
   "source": [
    "spark = SparkSession \\\n",
    "    .builder.appName('ETLNotebook') \\\n",
    "    .config('spark.jars.packages', 'org.apache.hadoop:hadoop-aws:3.3.4') \\\n",
    "    .getOrCreate()"
   ]
  },
  {
   "cell_type": "markdown",
   "metadata": {},
   "source": [
    "## 3. Define Data Storage Folders and Repartition Function"
   ]
  },
  {
   "cell_type": "markdown",
   "metadata": {},
   "source": [
    "#### 3.1 Define Data Storage Folders"
   ]
  },
  {
   "cell_type": "code",
   "execution_count": null,
   "metadata": {},
   "outputs": [],
   "source": [
    "IS_AWS_STORAGE = False\n",
    "ROOT_PATH = 's3a://udacity-dataeng-emr/application/data' if IS_AWS_STORAGE else '../../data'\n",
    "\n",
    "data = {}\n",
    "\n",
    "data['landing'] = {\n",
    "    'logs': f'{ROOT_PATH}/landing/log_data/*/*/*.json',\n",
    "    'songs': f'{ROOT_PATH}/landing/song_data/*/*/*/*.json'\n",
    "}\n",
    "\n",
    "data['bronze'] = {\n",
    "    'logs': f'{ROOT_PATH}/bronze/logs.json',\n",
    "    'songs': f'{ROOT_PATH}/bronze/songs.json'\n",
    "}\n",
    "\n",
    "data['silver'] = {\n",
    "    'artists': f'{ROOT_PATH}/silver/artists.parquet',\n",
    "    'songplays': f'{ROOT_PATH}/silver/songplays.parquet',\n",
    "    'songs': f'{ROOT_PATH}/silver/songs.parquet',\n",
    "    'time': f'{ROOT_PATH}/silver/time.parquet',\n",
    "    'users': f'{ROOT_PATH}/silver/users.parquet'\n",
    "}"
   ]
  },
  {
   "cell_type": "markdown",
   "metadata": {},
   "source": [
    "#### 3.2 Define Repartition Function"
   ]
  },
  {
   "cell_type": "code",
   "execution_count": 193,
   "metadata": {},
   "outputs": [],
   "source": [
    "def repartition_data(source_path, target_path):\n",
    "    data = spark.read.json(source_path)\n",
    "    data = data.repartition(1)\n",
    "    data.write.mode('overwrite').json(target_path)\n",
    "    return data"
   ]
  },
  {
   "cell_type": "markdown",
   "metadata": {},
   "source": [
    "#### 3.1 Repartition and Print the Number of Songs"
   ]
  },
  {
   "cell_type": "code",
   "execution_count": 194,
   "metadata": {},
   "outputs": [
    {
     "name": "stderr",
     "output_type": "stream",
     "text": [
      "                                                                                \r"
     ]
    },
    {
     "name": "stdout",
     "output_type": "stream",
     "text": [
      "22/08/11 12:30:03 WARN SharedInMemoryCache: Evicting cached table partition metadata from memory due to size constraints (spark.sql.hive.filesourcePartitionFileCacheSize = 262144000 bytes). This may impact query planning performance.\n"
     ]
    },
    {
     "name": "stderr",
     "output_type": "stream",
     "text": [
      "[Stage 91:===================================================>  (441 + 8) / 466]\r"
     ]
    },
    {
     "name": "stdout",
     "output_type": "stream",
     "text": [
      "Songs count: 14896\n"
     ]
    },
    {
     "name": "stderr",
     "output_type": "stream",
     "text": [
      "                                                                                \r"
     ]
    }
   ],
   "source": [
    "songs = repartition_data(data['landing']['songs'], data['bronze']['songs'])\n",
    "songs_count = songs.count()\n",
    "\n",
    "print(f'Songs count: {songs_count}')"
   ]
  },
  {
   "cell_type": "markdown",
   "metadata": {},
   "source": [
    "#### 3.2 Repartition and Print the Number of Logs"
   ]
  },
  {
   "cell_type": "code",
   "execution_count": 195,
   "metadata": {},
   "outputs": [
    {
     "name": "stdout",
     "output_type": "stream",
     "text": [
      "Logs count: 8056\n"
     ]
    }
   ],
   "source": [
    "logs = repartition_data(data['landing']['logs'], data['bronze']['logs'])\n",
    "logs_count = logs.count()\n",
    "\n",
    "print(f'Logs count: {logs_count}')"
   ]
  },
  {
   "cell_type": "markdown",
   "metadata": {},
   "source": [
    "## 4. Create and Export Songs Table"
   ]
  },
  {
   "cell_type": "markdown",
   "metadata": {},
   "source": [
    "#### 4.1 Songs Table Columns & Schema"
   ]
  },
  {
   "cell_type": "code",
   "execution_count": 196,
   "metadata": {},
   "outputs": [
    {
     "name": "stdout",
     "output_type": "stream",
     "text": [
      "root\n",
      " |-- song_id: string (nullable = true)\n",
      " |-- title: string (nullable = true)\n",
      " |-- year: long (nullable = true)\n",
      " |-- duration: double (nullable = true)\n",
      " |-- artist_id: string (nullable = true)\n",
      "\n"
     ]
    }
   ],
   "source": [
    "songs_table_columns = ['song_id', 'title', 'year', 'duration', 'artist_id']\n",
    "\n",
    "songs_table = songs.select(songs_table_columns)\n",
    "songs_table.printSchema()"
   ]
  },
  {
   "cell_type": "code",
   "execution_count": 197,
   "metadata": {},
   "outputs": [
    {
     "name": "stderr",
     "output_type": "stream",
     "text": [
      "[Stage 101:==================================================>  (446 + 8) / 466]\r"
     ]
    },
    {
     "name": "stdout",
     "output_type": "stream",
     "text": [
      "+------------------+--------------------+----+---------+------------------+\n",
      "|           song_id|               title|year| duration|         artist_id|\n",
      "+------------------+--------------------+----+---------+------------------+\n",
      "|SOVIYJY12AF72A4B00|The Dead Next Doo...|1983|233.22077|AR4T2IF1187B9ADBB7|\n",
      "|SOVYXYL12AF72A3373|Rebel Yell (1999 ...|1983|287.92118|AR4T2IF1187B9ADBB7|\n",
      "|SOEPTVC12A67ADD0DA|To Zucchabar [\"Gl...|   0|196.04853|ARQ846I1187B9A7083|\n",
      "|SOLQYSZ12AB0181F97|    Mony Mony (Live)|1987|247.53587|AR4T2IF1187B9ADBB7|\n",
      "|SOVPFJK12A6701CB16|Barcelona - (Frie...|2000|273.44934|AR3TZ691187FB3DBB1|\n",
      "+------------------+--------------------+----+---------+------------------+\n",
      "only showing top 5 rows\n",
      "\n"
     ]
    },
    {
     "name": "stderr",
     "output_type": "stream",
     "text": [
      "                                                                                \r"
     ]
    }
   ],
   "source": [
    "songs_table.show(5)"
   ]
  },
  {
   "cell_type": "markdown",
   "metadata": {},
   "source": [
    "#### 4.2 Count Null Values"
   ]
  },
  {
   "cell_type": "code",
   "execution_count": 198,
   "metadata": {},
   "outputs": [
    {
     "name": "stderr",
     "output_type": "stream",
     "text": [
      "[Stage 104:=================================================>   (436 + 8) / 466]\r"
     ]
    },
    {
     "name": "stdout",
     "output_type": "stream",
     "text": [
      "+-------+-----+----+--------+---------+\n",
      "|song_id|title|year|duration|artist_id|\n",
      "+-------+-----+----+--------+---------+\n",
      "|      0|    0|   0|       0|        0|\n",
      "+-------+-----+----+--------+---------+\n",
      "\n"
     ]
    },
    {
     "name": "stderr",
     "output_type": "stream",
     "text": [
      "                                                                                \r"
     ]
    }
   ],
   "source": [
    "nulls_filter = [F.count(F.when(F.isnan(c) | F.col(c).isNull(), c)).alias(c) for c in songs_table_columns]\n",
    "songs_table.select(nulls_filter).show()"
   ]
  },
  {
   "cell_type": "markdown",
   "metadata": {},
   "source": [
    "#### 4.3 Check Duplicates"
   ]
  },
  {
   "cell_type": "code",
   "execution_count": 199,
   "metadata": {},
   "outputs": [
    {
     "name": "stderr",
     "output_type": "stream",
     "text": [
      "[Stage 107:==================================================>  (448 + 8) / 466]\r"
     ]
    },
    {
     "name": "stdout",
     "output_type": "stream",
     "text": [
      "Songs duplicates: 0\n"
     ]
    },
    {
     "name": "stderr",
     "output_type": "stream",
     "text": [
      "                                                                                \r"
     ]
    }
   ],
   "source": [
    "unique_songs_count = songs_table.dropDuplicates(['song_id']).count()\n",
    "print(f'Songs duplicates: {songs_count - unique_songs_count}')"
   ]
  },
  {
   "cell_type": "markdown",
   "metadata": {},
   "source": [
    "#### 4.4 Export to Songs Parquet Table"
   ]
  },
  {
   "cell_type": "code",
   "execution_count": 200,
   "metadata": {},
   "outputs": [
    {
     "name": "stderr",
     "output_type": "stream",
     "text": [
      "                                                                                \r"
     ]
    }
   ],
   "source": [
    "songs_table.drop_duplicates(['song_id']).write.mode('overwrite').parquet(data['silver']['songs'])"
   ]
  },
  {
   "cell_type": "markdown",
   "metadata": {},
   "source": [
    "## 5. Create and Export Artists Table"
   ]
  },
  {
   "cell_type": "markdown",
   "metadata": {},
   "source": [
    "#### 5.1 Artists Table Columns & Schema"
   ]
  },
  {
   "cell_type": "code",
   "execution_count": 201,
   "metadata": {},
   "outputs": [
    {
     "name": "stdout",
     "output_type": "stream",
     "text": [
      "root\n",
      " |-- artist_id: string (nullable = true)\n",
      " |-- name: string (nullable = true)\n",
      " |-- location: string (nullable = true)\n",
      " |-- latitude: double (nullable = true)\n",
      " |-- longitude: double (nullable = true)\n",
      "\n"
     ]
    }
   ],
   "source": [
    "artists_json_columns = ['artist_id', 'artist_name', 'artist_location', 'artist_latitude', 'artist_longitude']\n",
    "artists_table_columns = ['artist_id', 'name', 'location', 'latitude', 'longitude']\n",
    "\n",
    "artists_table = songs.select(artists_json_columns).toDF(*artists_table_columns)\n",
    "artists_table.printSchema()"
   ]
  },
  {
   "cell_type": "code",
   "execution_count": 202,
   "metadata": {},
   "outputs": [
    {
     "name": "stderr",
     "output_type": "stream",
     "text": [
      "[Stage 113:==================================================>  (445 + 8) / 466]\r"
     ]
    },
    {
     "name": "stdout",
     "output_type": "stream",
     "text": [
      "+------------------+--------------------+--------------------+--------+---------+\n",
      "|         artist_id|                name|            location|latitude|longitude|\n",
      "+------------------+--------------------+--------------------+--------+---------+\n",
      "|AR4T2IF1187B9ADBB7|          Billy Idol|<a href=\"http://b...|63.96027| 10.22442|\n",
      "|AR4T2IF1187B9ADBB7|          Billy Idol|<a href=\"http://b...|63.96027| 10.22442|\n",
      "|ARQ846I1187B9A7083|Yvonne S. Moriart...|                    |    null|     null|\n",
      "|AR4T2IF1187B9ADBB7|          Billy Idol|<a href=\"http://b...|63.96027| 10.22442|\n",
      "|AR3TZ691187FB3DBB1|Russell Watson / ...|                    |    null|     null|\n",
      "+------------------+--------------------+--------------------+--------+---------+\n",
      "only showing top 5 rows\n",
      "\n"
     ]
    },
    {
     "name": "stderr",
     "output_type": "stream",
     "text": [
      "                                                                                \r"
     ]
    }
   ],
   "source": [
    "artists_table.show(5)"
   ]
  },
  {
   "cell_type": "markdown",
   "metadata": {},
   "source": [
    "#### 5.2 Count Null Values"
   ]
  },
  {
   "cell_type": "code",
   "execution_count": 203,
   "metadata": {},
   "outputs": [
    {
     "name": "stderr",
     "output_type": "stream",
     "text": [
      "[Stage 116:===================================================> (453 + 8) / 466]\r"
     ]
    },
    {
     "name": "stdout",
     "output_type": "stream",
     "text": [
      "+---------+----+--------+--------+---------+\n",
      "|artist_id|name|location|latitude|longitude|\n",
      "+---------+----+--------+--------+---------+\n",
      "|        0|   0|       1|    9619|     9619|\n",
      "+---------+----+--------+--------+---------+\n",
      "\n"
     ]
    },
    {
     "name": "stderr",
     "output_type": "stream",
     "text": [
      "                                                                                \r"
     ]
    }
   ],
   "source": [
    "nulls_filter = [F.count(F.when(F.isnan(c) | F.col(c).isNull(), c)).alias(c) for c in artists_table_columns]\n",
    "artists_table.select(nulls_filter).show()"
   ]
  },
  {
   "cell_type": "markdown",
   "metadata": {},
   "source": [
    "#### 5.3 Check Duplicates"
   ]
  },
  {
   "cell_type": "code",
   "execution_count": 204,
   "metadata": {},
   "outputs": [
    {
     "name": "stderr",
     "output_type": "stream",
     "text": [
      "[Stage 119:==================================================>  (446 + 8) / 466]\r"
     ]
    },
    {
     "name": "stdout",
     "output_type": "stream",
     "text": [
      "Artists duplicates: 5343\n"
     ]
    },
    {
     "name": "stderr",
     "output_type": "stream",
     "text": [
      "                                                                                \r"
     ]
    }
   ],
   "source": [
    "unique_artists_count = artists_table.dropDuplicates(['artist_id']).count()\n",
    "print(f'Artists duplicates: {songs_count - unique_artists_count}')"
   ]
  },
  {
   "cell_type": "markdown",
   "metadata": {},
   "source": [
    "#### 5.4 Export to Artists Parquet Table"
   ]
  },
  {
   "cell_type": "code",
   "execution_count": 205,
   "metadata": {},
   "outputs": [
    {
     "name": "stderr",
     "output_type": "stream",
     "text": [
      "                                                                                \r"
     ]
    }
   ],
   "source": [
    "artists_table.drop_duplicates(['artist_id']).write.mode('overwrite').parquet(data['silver']['artists'])"
   ]
  },
  {
   "cell_type": "markdown",
   "metadata": {},
   "source": [
    "## 6. Filter Logs and Update Count"
   ]
  },
  {
   "cell_type": "code",
   "execution_count": 206,
   "metadata": {},
   "outputs": [
    {
     "name": "stdout",
     "output_type": "stream",
     "text": [
      "Logs count: 6820\n"
     ]
    }
   ],
   "source": [
    "logs = logs.where(logs.page == 'NextSong')\n",
    "\n",
    "logs_count = logs.count()\n",
    "print(f'Logs count: {logs_count}')"
   ]
  },
  {
   "cell_type": "markdown",
   "metadata": {},
   "source": [
    "## 7. Create and Export Users Table"
   ]
  },
  {
   "cell_type": "markdown",
   "metadata": {},
   "source": [
    "#### 7.1 Users Table Columns & Schema"
   ]
  },
  {
   "cell_type": "code",
   "execution_count": 207,
   "metadata": {},
   "outputs": [
    {
     "name": "stdout",
     "output_type": "stream",
     "text": [
      "root\n",
      " |-- user_id: string (nullable = true)\n",
      " |-- first_name: string (nullable = true)\n",
      " |-- last_name: string (nullable = true)\n",
      " |-- gender: string (nullable = true)\n",
      " |-- level: string (nullable = true)\n",
      "\n"
     ]
    }
   ],
   "source": [
    "users_json_columns = ['userId', 'firstName', 'lastName', 'gender', 'level']\n",
    "users_table_columns = ['user_id', 'first_name', 'last_name', 'gender', 'level']\n",
    "\n",
    "users_table = logs.select(users_json_columns).toDF(*users_table_columns)\n",
    "users_table.printSchema()"
   ]
  },
  {
   "cell_type": "code",
   "execution_count": 208,
   "metadata": {},
   "outputs": [
    {
     "name": "stdout",
     "output_type": "stream",
     "text": [
      "+-------+----------+---------+------+-----+\n",
      "|user_id|first_name|last_name|gender|level|\n",
      "+-------+----------+---------+------+-----+\n",
      "|     26|      Ryan|    Smith|     M| free|\n",
      "|     26|      Ryan|    Smith|     M| free|\n",
      "|     26|      Ryan|    Smith|     M| free|\n",
      "|     61|    Samuel| Gonzalez|     M| free|\n",
      "|     80|     Tegan|   Levine|     F| paid|\n",
      "+-------+----------+---------+------+-----+\n",
      "only showing top 5 rows\n",
      "\n"
     ]
    }
   ],
   "source": [
    "users_table.show(5)"
   ]
  },
  {
   "cell_type": "markdown",
   "metadata": {},
   "source": [
    "#### 7.2 Count Null Values"
   ]
  },
  {
   "cell_type": "code",
   "execution_count": 209,
   "metadata": {},
   "outputs": [
    {
     "name": "stdout",
     "output_type": "stream",
     "text": [
      "+-------+----------+---------+------+-----+\n",
      "|user_id|first_name|last_name|gender|level|\n",
      "+-------+----------+---------+------+-----+\n",
      "|      0|         0|        0|     0|    0|\n",
      "+-------+----------+---------+------+-----+\n",
      "\n"
     ]
    }
   ],
   "source": [
    "nulls_filter = [F.count(F.when(F.isnan(c) | F.col(c).isNull(), c)).alias(c) for c in users_table_columns]\n",
    "users_table.select(nulls_filter).show()"
   ]
  },
  {
   "cell_type": "markdown",
   "metadata": {},
   "source": [
    "#### 7.3 Check Duplicates"
   ]
  },
  {
   "cell_type": "code",
   "execution_count": 210,
   "metadata": {},
   "outputs": [
    {
     "name": "stdout",
     "output_type": "stream",
     "text": [
      "Users duplicates: 6724\n"
     ]
    }
   ],
   "source": [
    "unique_users_count = users_table.dropDuplicates(['user_id']).count()\n",
    "print(f'Users duplicates: {logs_count - unique_users_count}')"
   ]
  },
  {
   "cell_type": "markdown",
   "metadata": {},
   "source": [
    "#### 7.4 Export to Users Parquet Table"
   ]
  },
  {
   "cell_type": "code",
   "execution_count": 211,
   "metadata": {},
   "outputs": [],
   "source": [
    "users_table.drop_duplicates(['user_id']).write.mode('overwrite').parquet(data['silver']['users'])"
   ]
  },
  {
   "cell_type": "markdown",
   "metadata": {},
   "source": [
    "## 8. Create and Export Time Table"
   ]
  },
  {
   "cell_type": "markdown",
   "metadata": {},
   "source": [
    "#### 8.1 Time Table Columns & Schema"
   ]
  },
  {
   "cell_type": "code",
   "execution_count": 212,
   "metadata": {},
   "outputs": [
    {
     "name": "stdout",
     "output_type": "stream",
     "text": [
      "root\n",
      " |-- start_time: string (nullable = false)\n",
      " |-- hour: integer (nullable = true)\n",
      " |-- day: integer (nullable = true)\n",
      " |-- week: integer (nullable = true)\n",
      " |-- month: integer (nullable = true)\n",
      " |-- year: integer (nullable = true)\n",
      " |-- weekday: integer (nullable = true)\n",
      "\n"
     ]
    }
   ],
   "source": [
    "time_table_columns = ['start_time', 'hour', 'day', 'week', 'month', 'year', 'weekday']\n",
    "\n",
    "time_table = logs.select(['ts']) \\\n",
    "    .withColumn('start_time', F.concat_ws(\".\",\n",
    "        F.from_unixtime((F.col('ts') / 1000), 'yyyy-MM-dd HH:mm:ss'),\n",
    "        F.substring(F.col('ts'), -3, 3))) \\\n",
    "    .withColumn('hour', F.hour(F.to_date('start_time'))) \\\n",
    "    .withColumn('day', F.dayofmonth(F.to_date('start_time'))) \\\n",
    "    .withColumn('week', F.weekofyear(F.to_date('start_time'))) \\\n",
    "    .withColumn('month', F.month(F.to_date('start_time'))) \\\n",
    "    .withColumn('year', F.year(F.to_date('start_time'))) \\\n",
    "    .withColumn('weekday', F.dayofweek(F.to_date('start_time'))) \\\n",
    "    .select(time_table_columns)\n",
    "\n",
    "time_table.printSchema()"
   ]
  },
  {
   "cell_type": "code",
   "execution_count": 213,
   "metadata": {},
   "outputs": [
    {
     "name": "stdout",
     "output_type": "stream",
     "text": [
      "+--------------------+----+---+----+-----+----+-------+\n",
      "|          start_time|hour|day|week|month|year|weekday|\n",
      "+--------------------+----+---+----+-----+----+-------+\n",
      "|2018-11-14 22:30:...|   0| 14|  46|   11|2018|      4|\n",
      "|2018-11-14 22:41:...|   0| 14|  46|   11|2018|      4|\n",
      "|2018-11-14 22:45:...|   0| 14|  46|   11|2018|      4|\n",
      "|2018-11-15 01:44:...|   0| 15|  46|   11|2018|      5|\n",
      "|2018-11-15 03:48:...|   0| 15|  46|   11|2018|      5|\n",
      "+--------------------+----+---+----+-----+----+-------+\n",
      "only showing top 5 rows\n",
      "\n"
     ]
    }
   ],
   "source": [
    "time_table.show(5)"
   ]
  },
  {
   "cell_type": "markdown",
   "metadata": {},
   "source": [
    "#### 8.2 Count Null Values"
   ]
  },
  {
   "cell_type": "code",
   "execution_count": 214,
   "metadata": {},
   "outputs": [
    {
     "name": "stdout",
     "output_type": "stream",
     "text": [
      "+----------+----+---+----+-----+----+-------+\n",
      "|start_time|hour|day|week|month|year|weekday|\n",
      "+----------+----+---+----+-----+----+-------+\n",
      "|         0|   0|  0|   0|    0|   0|      0|\n",
      "+----------+----+---+----+-----+----+-------+\n",
      "\n"
     ]
    }
   ],
   "source": [
    "nulls_filter = [F.count(F.when(F.col(c).isNull(), c)).alias(c) for c in time_table_columns]\n",
    "time_table.select(nulls_filter).show()"
   ]
  },
  {
   "cell_type": "markdown",
   "metadata": {},
   "source": [
    "#### 8.3 Check Duplicates"
   ]
  },
  {
   "cell_type": "code",
   "execution_count": 215,
   "metadata": {},
   "outputs": [
    {
     "name": "stdout",
     "output_type": "stream",
     "text": [
      "Time duplicates: 7\n"
     ]
    }
   ],
   "source": [
    "unique_time_count = time_table.dropDuplicates(['start_time']).count()\n",
    "print(f'Time duplicates: {logs_count - unique_time_count}')"
   ]
  },
  {
   "cell_type": "markdown",
   "metadata": {},
   "source": [
    "#### 8.4 Export to Time Parquet Table"
   ]
  },
  {
   "cell_type": "code",
   "execution_count": 216,
   "metadata": {},
   "outputs": [],
   "source": [
    "time_table.drop_duplicates(['start_time']).write.mode('overwrite').parquet(data['silver']['time'])"
   ]
  },
  {
   "cell_type": "markdown",
   "metadata": {},
   "source": [
    "## 9. Create and Export Songplays Table"
   ]
  },
  {
   "cell_type": "markdown",
   "metadata": {},
   "source": [
    "#### 9.1 Songplays Table Columns & Schema"
   ]
  },
  {
   "cell_type": "code",
   "execution_count": 217,
   "metadata": {},
   "outputs": [
    {
     "name": "stdout",
     "output_type": "stream",
     "text": [
      "root\n",
      " |-- songplay_id: string (nullable = true)\n",
      " |-- level: string (nullable = true)\n",
      " |-- location: string (nullable = true)\n",
      " |-- user_agent: string (nullable = true)\n",
      " |-- session_id: long (nullable = true)\n",
      " |-- user_id: string (nullable = true)\n",
      " |-- song_id: string (nullable = true)\n",
      " |-- artist_id: string (nullable = true)\n",
      " |-- start_time: string (nullable = false)\n",
      "\n"
     ]
    }
   ],
   "source": [
    "songplays_json_columns = ['level', 'location', 'userAgent',\n",
    "                          'sessionId', 'itemInSession', 'userId', 'ts',\n",
    "                          'song', 'artist', 'length']\n",
    "songplays_table_columns = ['songplay_id', 'level', 'location',\n",
    "                           'user_agent', 'session_id', 'user_id',\n",
    "                           'song_id', 'artist_id', 'start_time']\n",
    "\n",
    "\n",
    "songplays_table = logs.select(songplays_json_columns).alias('sp') \\\n",
    "    .join(songs.alias('so'), [\n",
    "          (F.col('sp.song') == F.col('so.title')) &\n",
    "          (F.col('sp.artist') == F.col('so.artist_name')) &\n",
    "          (F.col('sp.length') == F.col('so.duration'))]) \\\n",
    "    .withColumn('songplay_id', F.concat(\n",
    "        F.col('userId'),\n",
    "        F.col('sessionId').cast('string'),\n",
    "        F.col('itemInSession').cast('string'))) \\\n",
    "    .withColumn('start_time', F.concat_ws(\".\",\n",
    "        F.from_unixtime((F.col('ts') / 1000), 'yyyy-MM-dd HH:mm:ss'),\n",
    "        F.substring(F.col('ts'), -3, 3))) \\\n",
    "    .withColumnRenamed('userAgent','user_agent') \\\n",
    "    .withColumnRenamed('sessionId', 'session_id') \\\n",
    "    .withColumnRenamed('userId', 'user_id') \\\n",
    "    .select(songplays_table_columns)\n",
    "\n",
    "songplays_table.printSchema()\n"
   ]
  },
  {
   "cell_type": "code",
   "execution_count": 218,
   "metadata": {},
   "outputs": [
    {
     "name": "stderr",
     "output_type": "stream",
     "text": [
      "[Stage 153:============>(453 + 8) / 466][Stage 155:>                (0 + 0) / 1]\r"
     ]
    },
    {
     "name": "stdout",
     "output_type": "stream",
     "text": [
      "+-----------+-----+--------------------+--------------------+----------+-------+------------------+------------------+--------------------+\n",
      "|songplay_id|level|            location|          user_agent|session_id|user_id|           song_id|         artist_id|          start_time|\n",
      "+-----------+-----+--------------------+--------------------+----------+-------+------------------+------------------+--------------------+\n",
      "|    8874413| paid|Sacramento--Rosev...|\"Mozilla/5.0 (Mac...|       744|     88|SOCHPTV12A6BD53113|ARN8NCB1187FB49652|2018-11-21 06:25:...|\n",
      "|   49104147| paid|San Francisco-Oak...|Mozilla/5.0 (Wind...|      1041|     49|SOGXSWA12A6D4FBC99|ARPFHN61187FB575F6|2018-11-29 14:58:...|\n",
      "|    5888720| paid|Augusta-Richmond ...|\"Mozilla/5.0 (Win...|       887|     58|SOJWCWM12A8C13B664|ARM6T8I1187FB36CC8|2018-11-28 06:18:...|\n",
      "|    2498481| paid|Lake Havasu City-...|\"Mozilla/5.0 (Win...|       984|     24|SOHRHCN12AB018B0F4|ARHQBRZ1187FB3BDA2|2018-11-28 21:34:...|\n",
      "|    8890049| paid|Sacramento--Rosev...|\"Mozilla/5.0 (Mac...|       900|     88|SOARTQC12A58A77F0C|ARCE0IX1187FB528B4|2018-11-26 13:37:...|\n",
      "+-----------+-----+--------------------+--------------------+----------+-------+------------------+------------------+--------------------+\n",
      "only showing top 5 rows\n",
      "\n"
     ]
    },
    {
     "name": "stderr",
     "output_type": "stream",
     "text": [
      "                                                                                \r"
     ]
    }
   ],
   "source": [
    "songplays_table.show(5)"
   ]
  },
  {
   "cell_type": "markdown",
   "metadata": {},
   "source": [
    "#### 9.2 Count Null Values"
   ]
  },
  {
   "cell_type": "code",
   "execution_count": 219,
   "metadata": {},
   "outputs": [
    {
     "name": "stderr",
     "output_type": "stream",
     "text": [
      "[Stage 159:============>(451 + 8) / 466][Stage 161:>                (0 + 0) / 1]\r"
     ]
    },
    {
     "name": "stdout",
     "output_type": "stream",
     "text": [
      "+-----------+-----+--------+----------+----------+-------+-------+---------+----------+\n",
      "|songplay_id|level|location|user_agent|session_id|user_id|song_id|artist_id|start_time|\n",
      "+-----------+-----+--------+----------+----------+-------+-------+---------+----------+\n",
      "|          0|    0|       0|         0|         0|      0|      0|        0|         0|\n",
      "+-----------+-----+--------+----------+----------+-------+-------+---------+----------+\n",
      "\n"
     ]
    },
    {
     "name": "stderr",
     "output_type": "stream",
     "text": [
      "                                                                                \r"
     ]
    }
   ],
   "source": [
    "nulls_filter = [F.count(F.when(F.col(c).isNull(), c)).alias(c) for c in songplays_table_columns]\n",
    "songplays_table.select(nulls_filter).show()"
   ]
  },
  {
   "cell_type": "markdown",
   "metadata": {},
   "source": [
    "#### 9.3 Export to Songplays Parquet Table"
   ]
  },
  {
   "cell_type": "code",
   "execution_count": 220,
   "metadata": {},
   "outputs": [
    {
     "name": "stderr",
     "output_type": "stream",
     "text": [
      "                                                                                \r"
     ]
    }
   ],
   "source": [
    "songplays_table.write.mode('overwrite').parquet(data['silver']['songplays'])"
   ]
  },
  {
   "cell_type": "markdown",
   "metadata": {},
   "source": [
    "## 10. Stop Spark Session"
   ]
  },
  {
   "cell_type": "code",
   "execution_count": 222,
   "metadata": {},
   "outputs": [],
   "source": [
    "spark.stop()"
   ]
  }
 ],
 "metadata": {
  "kernelspec": {
   "display_name": "Python 3.10.4 ('py310')",
   "language": "python",
   "name": "python3"
  },
  "language_info": {
   "codemirror_mode": {
    "name": "ipython",
    "version": 3
   },
   "file_extension": ".py",
   "mimetype": "text/x-python",
   "name": "python",
   "nbconvert_exporter": "python",
   "pygments_lexer": "ipython3",
   "version": "3.10.4"
  },
  "orig_nbformat": 4,
  "vscode": {
   "interpreter": {
    "hash": "d47df541592af340dce933e7169349dc2df4da248e87c9a46187cbe39a8376b2"
   }
  }
 },
 "nbformat": 4,
 "nbformat_minor": 2
}
